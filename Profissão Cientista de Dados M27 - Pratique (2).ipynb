{
 "cells": [
  {
   "cell_type": "markdown",
   "metadata": {},
   "source": [
    "![Cabec%CC%A7alho_notebook.png](cabecalho_notebook.png)"
   ]
  },
  {
   "cell_type": "markdown",
   "metadata": {},
   "source": [
    "# PCA - Tarefa 01: *HAR* com PCA\n",
    "\n",
    "Vamos trabalhar com a base da demonstração feita em aula, mas vamos explorar um pouco melhor como é o desempenho da árvore variando o número de componentes principais."
   ]
  },
  {
   "cell_type": "code",
   "execution_count": 18,
   "metadata": {},
   "outputs": [],
   "source": [
    "import pandas as pd\n",
    "import time\n",
    "from sklearn.tree import DecisionTreeClassifier\n",
    "from sklearn.decomposition import PCA\n",
    "from sklearn.metrics import accuracy_score\n",
    "from sklearn.model_selection import cross_val_score, GridSearchCV\n",
    "\n",
    "base_path = r\"C:\\Users\\Lopes\\Desktop\\atividades\\Modulo 27\\arquivos\"\n",
    "\n",
    "filename_features = f\"{base_path}\\\\features.txt\"\n",
    "filename_labels = f\"{base_path}\\\\activity_labels.txt\"\n",
    "\n",
    "filename_subtrain = f\"{base_path}\\\\subject_train.txt\"\n",
    "filename_xtrain = f\"{base_path}\\\\X_train.txt\"\n",
    "filename_ytrain = f\"{base_path}\\\\y_train.txt\"\n",
    "\n",
    "filename_subtest = f\"{base_path}\\\\subject_test.txt\"\n",
    "filename_xtest = f\"{base_path}\\\\X_test.txt\"\n",
    "filename_ytest = f\"{base_path}\\\\y_test.txt\"\n",
    "\n",
    "features = pd.read_csv(filename_features, header=None, names=['nome_var'], sep=\"#\", encoding='latin1')['nome_var']\n",
    "labels = pd.read_csv(filename_labels, sep=r'\\s+', header=None, names=['cod_label', 'label'], encoding='latin1')\n",
    "\n",
    "subject_train = pd.read_csv(filename_subtrain, header=None, names=['subject_id'])\n",
    "X_train = pd.read_csv(filename_xtrain, sep=r'\\s+', header=None, names=features.tolist())\n",
    "y_train = pd.read_csv(filename_ytrain, header=None, names=['cod_label'])\n",
    "\n",
    "subject_test = pd.read_csv(filename_subtest, header=None, names=['subject_id'])\n",
    "X_test = pd.read_csv(filename_xtest, sep=r'\\s+', header=None, names=features.tolist())\n",
    "y_test = pd.read_csv(filename_ytest, header=None, names=['cod_label'])"
   ]
  },
  {
   "cell_type": "markdown",
   "metadata": {},
   "source": [
    "## Árvore de decisão\n",
    "\n",
    "Rode uma árvore de decisão com todas as variáveis, utilizando o ```ccp_alpha=0.001```. Avalie a acurácia nas bases de treinamento e teste. Avalie o tempo de processamento."
   ]
  },
  {
   "cell_type": "code",
   "execution_count": 22,
   "metadata": {},
   "outputs": [
    {
     "name": "stdout",
     "output_type": "stream",
     "text": [
      "Acurácia na base de treino: 0.5007\n",
      "Acurácia na base de teste:  0.3811\n",
      "Tempo de processamento:     0.0575 segundos\n"
     ]
    }
   ],
   "source": [
    "start_time = time.time()\n",
    "\n",
    "arvore = DecisionTreeClassifier(ccp_alpha=0.001, random_state=42)\n",
    "arvore.fit(X_train, y_train)\n",
    "\n",
    "y_pred_train = arvore.predict(X_train)\n",
    "y_pred_test = arvore.predict(X_test)\n",
    "\n",
    "acc_train = accuracy_score(y_train, y_pred_train)\n",
    "acc_test = accuracy_score(y_test, y_pred_test)\n",
    "\n",
    "end_time = time.time()\n",
    "tempo_total = end_time - start_time\n",
    "\n",
    "print(f\"Acurácia na base de treino: {acc_train:.4f}\")\n",
    "print(f\"Acurácia na base de teste:  {acc_test:.4f}\")\n",
    "print(f\"Tempo de processamento:     {tempo_total:.4f} segundos\")"
   ]
  },
  {
   "cell_type": "markdown",
   "metadata": {},
   "source": [
    "## Árvore com PCA\n",
    "\n",
    "Faça uma análise de componemtes principais das variáveis originais. Utilize apenas uma componente. Faça uma árvore de decisão com esta componente como variável explicativa.\n",
    "\n",
    "- Avalie a acurácia nas bases de treinamento e teste\n",
    "- Avalie o tempo de processamento"
   ]
  },
  {
   "cell_type": "code",
   "execution_count": 24,
   "metadata": {},
   "outputs": [
    {
     "name": "stdout",
     "output_type": "stream",
     "text": [
      "Acurácia (PCA 1 componente) - Treino: 1.0000\n",
      "Acurácia (PCA 1 componente) - Teste:  0.3251\n",
      "Tempo de processamento:              0.0530 segundos\n",
      "CPU times: total: 31.2 ms\n",
      "Wall time: 53 ms\n"
     ]
    }
   ],
   "source": [
    "%%time\n",
    "start_time = time.time()\n",
    "\n",
    "pca = PCA(n_components=1)\n",
    "X_train_pca = pca.fit_transform(X_train)\n",
    "X_test_pca = pca.transform(X_test)\n",
    "\n",
    "arvore_pca = DecisionTreeClassifier(random_state=42)\n",
    "arvore_pca.fit(X_train_pca, y_train)\n",
    "\n",
    "y_pred_train_pca = arvore_pca.predict(X_train_pca)\n",
    "y_pred_test_pca = arvore_pca.predict(X_test_pca)\n",
    "\n",
    "acc_train_pca = accuracy_score(y_train, y_pred_train_pca)\n",
    "acc_test_pca = accuracy_score(y_test, y_pred_test_pca)\n",
    "\n",
    "end_time = time.time()\n",
    "tempo_total_pca = end_time - start_time\n",
    "\n",
    "print(f\"Acurácia (PCA 1 componente) - Treino: {acc_train_pca:.4f}\")\n",
    "print(f\"Acurácia (PCA 1 componente) - Teste:  {acc_test_pca:.4f}\")\n",
    "print(f\"Tempo de processamento:              {tempo_total_pca:.4f} segundos\")"
   ]
  },
  {
   "cell_type": "markdown",
   "metadata": {},
   "source": [
    "## Testando o número de componentes\n",
    "\n",
    "Com base no código acima, teste a árvore de classificação com pelo menos as seguintes possibilidades de quantidades de componentes: ```[1, 2, 5, 10, 50]```. Avalie para cada uma delas:\n",
    "\n",
    "- Acurácia nas bases de treino e teste\n",
    "- Tempo de processamento\n"
   ]
  },
  {
   "cell_type": "code",
   "execution_count": 32,
   "metadata": {},
   "outputs": [
    {
     "name": "stdout",
     "output_type": "stream",
     "text": [
      "(7352, 1)\n",
      "(2947, 1)\n"
     ]
    }
   ],
   "source": [
    "print(X_train.shape)\n",
    "print(X_test.shape)"
   ]
  },
  {
   "cell_type": "code",
   "execution_count": 42,
   "metadata": {},
   "outputs": [
    {
     "name": "stdout",
     "output_type": "stream",
     "text": [
      "Acurácia Treino: 0.43715995647442873\n",
      "Acurácia Teste: 0.39429928741092635\n",
      "Tempo: 0.054000139236450195 segundos\n",
      " \n",
      "Acurácia Treino: 0.43715995647442873\n",
      "Acurácia Teste: 0.39429928741092635\n",
      "Tempo: 0.051000118255615234 segundos\n",
      " \n",
      "Acurácia Treino: 0.43715995647442873\n",
      "Acurácia Teste: 0.39429928741092635\n",
      "Tempo: 0.05000042915344238 segundos\n",
      " \n",
      "Acurácia Treino: 0.43715995647442873\n",
      "Acurácia Teste: 0.39429928741092635\n",
      "Tempo: 0.05099987983703613 segundos\n",
      " \n",
      "Acurácia Treino: 0.43715995647442873\n",
      "Acurácia Teste: 0.39429928741092635\n",
      "Tempo: 0.051000118255615234 segundos\n",
      " \n"
     ]
    }
   ],
   "source": [
    "componentes = [1, 2, 5, 10, 50]\n",
    "\n",
    "for n in componentes:\n",
    "    start_time = time.time()\n",
    "\n",
    "    pca = PCA(n_components=1)\n",
    "    X_train_pca = pca.fit_transform(X_train)\n",
    "    X_test_pca = pca.transform(X_test)\n",
    "\n",
    "    arvore = DecisionTreeClassifier(random_state=42, ccp_alpha=0.01)\n",
    "    arvore.fit(X_train_pca, y_train)\n",
    "    y_pred_train = arvore.predict(X_train_pca)\n",
    "    y_pred_test = arvore.predict(X_test_pca)\n",
    "\n",
    "    acuracia_treino = accuracy_score(y_train, y_pred_train)\n",
    "    acuracia_teste = accuracy_score(y_test, y_pred_test)\n",
    "\n",
    "    tempo_processamento = time.time() - start_time\n",
    "\n",
    "    print(f\"Acurácia Treino: {acuracia_treino}\")\n",
    "    print(f\"Acurácia Teste: {acuracia_teste}\")\n",
    "    print(f\"Tempo: {tempo_processamento} segundos\")\n",
    "    print(f\" \")"
   ]
  },
  {
   "cell_type": "markdown",
   "metadata": {},
   "source": [
    "## Conclua\n",
    "\n",
    "- O que aconteceu com a acurácia?\n",
    "- O que aconteceu com o tempo de processamento?"
   ]
  },
  {
   "cell_type": "markdown",
   "metadata": {},
   "source": [
    "A acurácia de treino e teste não melhorou significativamente com a regularização e PCA, permanecendo em torno de 43% e 39%, respectivamente. O modelo parece ainda ter dificuldades em generalizar\n",
    "\n",
    "O tempo de processamento foi rápido."
   ]
  },
  {
   "cell_type": "code",
   "execution_count": null,
   "metadata": {},
   "outputs": [],
   "source": []
  }
 ],
 "metadata": {
  "kernelspec": {
   "display_name": "Python [conda env:base] *",
   "language": "python",
   "name": "conda-base-py"
  },
  "language_info": {
   "codemirror_mode": {
    "name": "ipython",
    "version": 3
   },
   "file_extension": ".py",
   "mimetype": "text/x-python",
   "name": "python",
   "nbconvert_exporter": "python",
   "pygments_lexer": "ipython3",
   "version": "3.12.7"
  },
  "toc": {
   "base_numbering": 1,
   "nav_menu": {},
   "number_sections": true,
   "sideBar": true,
   "skip_h1_title": true,
   "title_cell": "Índice",
   "title_sidebar": "Conteúdo",
   "toc_cell": false,
   "toc_position": {},
   "toc_section_display": true,
   "toc_window_display": false
  },
  "varInspector": {
   "cols": {
    "lenName": 16,
    "lenType": 16,
    "lenVar": 40
   },
   "kernels_config": {
    "python": {
     "delete_cmd_postfix": "",
     "delete_cmd_prefix": "del ",
     "library": "var_list.py",
     "varRefreshCmd": "print(var_dic_list())"
    },
    "r": {
     "delete_cmd_postfix": ") ",
     "delete_cmd_prefix": "rm(",
     "library": "var_list.r",
     "varRefreshCmd": "cat(var_dic_list()) "
    }
   },
   "types_to_exclude": [
    "module",
    "function",
    "builtin_function_or_method",
    "instance",
    "_Feature"
   ],
   "window_display": false
  }
 },
 "nbformat": 4,
 "nbformat_minor": 4
}
